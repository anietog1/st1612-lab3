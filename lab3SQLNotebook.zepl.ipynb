﻿{
  "metadata": {
    "name": "Lab3SQLQueries",
    "kernelspec": {
      "language": "scala",
      "name": "spark2-scala"
    },
    "language_info": {
      "codemirror_mode": "text/x-scala",
      "file_extension": ".scala",
      "mimetype": "text/x-scala",
      "name": "scala",
      "pygments_lexer": "scala"
    }
  },
  "nbformat": 4,
  "nbformat_minor": 2,
  "cells": [
    {
      "cell_type": "code",
      "execution_count": 0,
      "metadata": {},
      "outputs": [],
      "source": "%%sql\n\nuse lab3emrglue;\nSELECT * FROM airlines WHERE cabin \u003d \"First Class\" LIMIT 30"
    },
    {
      "cell_type": "code",
      "execution_count": 1,
      "metadata": {},
      "outputs": [],
      "source": "%%sql\nuse lab3emrglue;\n\nSELECT * FROM covidcasescolombia WHERE departamento \u003d \"Antioquia\" AND edad \u003c 40 limit 35"
    },
    {
      "cell_type": "code",
      "execution_count": 2,
      "metadata": {},
      "outputs": [],
      "source": "%%sql\nuse lab3emrglue;\n\nSELECT * FROM onlineretail WHERE country \u003d \"United Kingdom\" limit 20"
    },
    {
      "cell_type": "code",
      "execution_count": 3,
      "metadata": {},
      "outputs": [],
      "source": "%%sql\nuse lab3emrglue;\n\nSELECT * FROM moviereviews limit 15"
    },
    {
      "cell_type": "code",
      "execution_count": 4,
      "metadata": {},
      "outputs": [],
      "source": "%%sql\nuse lab3emrglue;\n\nSELECT * FROM sampledata ORDER BY ratings"
    },
    {
      "cell_type": "code",
      "execution_count": 5,
      "metadata": {},
      "outputs": [],
      "source": "%%sql\n"
    }
  ]
}